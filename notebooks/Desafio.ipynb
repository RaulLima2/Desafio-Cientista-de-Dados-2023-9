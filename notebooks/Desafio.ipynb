{
  "nbformat": 4,
  "nbformat_minor": 0,
  "metadata": {
    "colab": {
      "private_outputs": true,
      "provenance": []
    },
    "kernelspec": {
      "name": "python3",
      "display_name": "Python 3"
    },
    "language_info": {
      "name": "python"
    }
  },
  "cells": [
    {
      "cell_type": "markdown",
      "source": [
        "# Analise Exploratoria dos Dados"
      ],
      "metadata": {
        "id": "-st7MQI3ygnK"
      }
    },
    {
      "cell_type": "markdown",
      "source": [
        "### Pacotes Usados"
      ],
      "metadata": {
        "id": "q_4Pg0bBymQ6"
      }
    },
    {
      "cell_type": "code",
      "execution_count": null,
      "metadata": {
        "id": "TfbVClnyeRGS"
      },
      "outputs": [],
      "source": [
        "import numpy as np\n",
        "import pandas as pd"
      ]
    },
    {
      "cell_type": "markdown",
      "source": [
        "#### Carregamento\n",
        "Para carregar os dados foi verificado que ele tinha a separação pelo caracter tab, usando a codificação UTF-16 LE, para analise de dados foi optado realizar um merge entre as bases"
      ],
      "metadata": {
        "id": "j9pbdfq3yo0K"
      }
    },
    {
      "cell_type": "code",
      "source": [
        "!git clone\n",
        "!git clone"
      ],
      "metadata": {
        "id": "1ETUfkxC-PND"
      },
      "execution_count": null,
      "outputs": []
    },
    {
      "cell_type": "code",
      "source": [
        "cars_test:pd.DataFrame = pd.read_csv('cars_test.csv',encoding='UTF-16LE', sep='\\t')\n",
        "cars_train:pd.DataFrame = pd.read_csv('cars_train.csv',encoding='UTF-16LE', sep='\\t')\n",
        "merge_train_test = pd.concat([cars_test, cars_train], ignore_index=True)"
      ],
      "metadata": {
        "id": "VwlOd3SnfBb1"
      },
      "execution_count": null,
      "outputs": []
    },
    {
      "cell_type": "markdown",
      "source": [
        "### Analise"
      ],
      "metadata": {
        "id": "VwtwZZJMzCmJ"
      }
    },
    {
      "cell_type": "code",
      "source": [
        "merge_train_test.head()"
      ],
      "metadata": {
        "id": "iyH9z0IhlUti"
      },
      "execution_count": null,
      "outputs": []
    },
    {
      "cell_type": "code",
      "source": [
        "merge_train_test.info()"
      ],
      "metadata": {
        "id": "84MysQrpltYx"
      },
      "execution_count": null,
      "outputs": []
    },
    {
      "cell_type": "markdown",
      "source": [
        "- No dataframe de Teste temos 1.9 de Mega Bytes,"
      ],
      "metadata": {
        "id": "koAgUw8vzotD"
      }
    },
    {
      "cell_type": "code",
      "source": [
        "merge_train_test.describe()"
      ],
      "metadata": {
        "id": "-i6EijEQgu6z"
      },
      "execution_count": null,
      "outputs": []
    },
    {
      "cell_type": "markdown",
      "source": [
        "- Neste dataset existe 39209 numero de fotos, 0 veiculo alienado, 39446 anos de fabricação, ano de modelo e hodometro\n",
        "- O valor maximo de ano de fabricação é de 2022 e de modelo é 2023, numero de portas é de 4, com preço\n",
        "- O valor minimo de fabricação é de 1985, modelo é 1997, numero de portas 2, com preço de\n",
        "- 25% dos carros têm 8 fotos, têm o ano de modelo de 2015 e fabrica de 2016, com 31235 de km rodados, com 4 portas no preço de\n",
        "- 50% dos carros têm em torno de 8 fotos também, o ano de fabricão é 2018, ano de modelo 2018, com 57244 de kilometros rodados, com 4 portas\n",
        "- 75% dos carros têm em torno de 8 fotos também, o ano de fabricão é 2018, ano de modelo 2018, com 57244 de kilometros rodados, com 4 portas\n",
        "- A Media dos dados são de  10 numero de fotos, 2016 e 2017 é o ano de fabricação e de modelo médio da maioria dos carros\n",
        "- O Desvio padão dos dçao no ano de modelo é 4 e de fabricaçaõ 2, com número de portas\n"
      ],
      "metadata": {
        "id": "YaKpVgh1j3eI"
      }
    },
    {
      "cell_type": "markdown",
      "source": [],
      "metadata": {
        "id": "wuDhjEwazWMw"
      }
    },
    {
      "cell_type": "code",
      "source": [
        "pd.unique(merge_train_test.query(\"preco <= 50000\")[\"versao\"])"
      ],
      "metadata": {
        "id": "orETHU5sxEVz"
      },
      "execution_count": null,
      "outputs": []
    },
    {
      "cell_type": "markdown",
      "source": [
        "- O tipo de carro picape é mais vendido em são paulo, em comparação aos outros estados, sendo 2585 carros"
      ],
      "metadata": {
        "id": "WnTWX4XNsr8z"
      }
    },
    {
      "cell_type": "code",
      "source": [
        "merge_train_test.query(\"preco <= 50000\")[\"versao\"]"
      ],
      "metadata": {
        "id": "jtTW79wVs5NU"
      },
      "execution_count": null,
      "outputs": []
    },
    {
      "cell_type": "markdown",
      "source": [],
      "metadata": {
        "id": "i4eZ5Ic9gufb"
      }
    }
  ]
}